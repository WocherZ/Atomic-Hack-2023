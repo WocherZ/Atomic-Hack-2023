{
  "nbformat": 4,
  "nbformat_minor": 0,
  "metadata": {
    "colab": {
      "provenance": [],
      "gpuType": "T4"
    },
    "kernelspec": {
      "name": "python3",
      "display_name": "Python 3"
    },
    "language_info": {
      "name": "python"
    },
    "accelerator": "GPU"
  },
  "cells": [
    {
      "cell_type": "code",
      "source": [
        "!pip install rdkit catboost\n",
        "!python -m pip install git+https://github.com/EBjerrum/molvecgen"
      ],
      "metadata": {
        "id": "K03tWqBtQQsW"
      },
      "execution_count": null,
      "outputs": []
    },
    {
      "cell_type": "code",
      "source": [
        "!pip install git+https://github.com/samoturk/mol2vec"
      ],
      "metadata": {
        "id": "OK86f8u-bMaP"
      },
      "execution_count": null,
      "outputs": []
    },
    {
      "cell_type": "code",
      "execution_count": 130,
      "metadata": {
        "id": "e3utac0XP7Xr"
      },
      "outputs": [],
      "source": [
        "import pandas as pd\n",
        "import numpy as np\n",
        "from rdkit import Chem\n",
        "from rdkit import DataStructs\n",
        "from rdkit.Chem import AllChem, Draw, Descriptors\n",
        "from rdkit.Chem.Draw import IPythonConsole\n",
        "from sklearn.preprocessing import FunctionTransformer\n",
        "import matplotlib.pyplot as plt\n",
        "import seaborn as sns\n",
        "from catboost import CatBoostRegressor\n",
        "from rdkit import Chem, DataStructs\n",
        "from rdkit.Chem import PandasTools, AllChem\n",
        "from sklearn.preprocessing import StandardScaler\n",
        "from sklearn.model_selection import train_test_split\n",
        "import torch\n",
        "import torch.nn as nn\n",
        "from torch.utils.data import Dataset\n",
        "from torch.optim.lr_scheduler import ReduceLROnPlateau\n",
        "from sklearn.model_selection import cross_val_score\n",
        "from molvecgen.vectorizers import SmilesVectorizer"
      ]
    },
    {
      "cell_type": "code",
      "source": [
        "import numpy as np\n",
        "import pandas as pd\n",
        "import sys, os\n",
        "\n",
        "sys.path.append(os.path.dirname(os.path.dirname(os.getcwd()))+'/mol2vec')\n",
        "\n",
        "from rdkit import Chem\n",
        "from rdkit.Chem import PandasTools\n",
        "from rdkit.Chem.Draw import IPythonConsole\n"
      ],
      "metadata": {
        "id": "B_SF5gK_bxEn"
      },
      "execution_count": 131,
      "outputs": []
    },
    {
      "cell_type": "code",
      "source": [
        "df = pd.read_excel('1400.xlsx')\n",
        "df = df.drop(columns = 'Pictures')\n",
        "df['SI'] = df['CC50-MDCK, mmg/ml']/df['IC50, mmg/ml']\n",
        "df['S_leng'] = df['SMILES'].str.len()"
      ],
      "metadata": {
        "id": "JDZhfUVIQT3B"
      },
      "execution_count": 132,
      "outputs": []
    },
    {
      "cell_type": "code",
      "source": [
        "df['finger'] = df['SMILES'].apply(lambda x: AllChem.RDKFingerprint(Chem.MolFromSmiles(x)))\n",
        "duplicates = df[df.duplicated(subset='Title', keep='first')]\n",
        "\n",
        "for i in range(len(duplicates)):\n",
        "  distances = []\n",
        "  fps_1 = duplicates.iloc[i]['finger']\n",
        "  for j in range(len(df)):\n",
        "    fps_2 = df.iloc[j]['finger']\n",
        "    if fps_1 != fps_2:\n",
        "      dist = DataStructs.FingerprintSimilarity(fps_1, fps_2)\n",
        "      distances.append(dist)\n",
        "  duplicates.loc[duplicates.index[i], 'IC50, mmg/ml'] = df.iloc[np.argmax(distances)]['IC50, mmg/ml']\n",
        "  duplicates.loc[duplicates.index[i], 'CC50-MDCK, mmg/ml'] = df.iloc[np.argmax(distances)]['CC50-MDCK, mmg/ml']\n",
        "  duplicates.loc[duplicates.index[i], 'SI'] = df.iloc[np.argmax(distances)]['SI']\n",
        "df.drop_duplicates(subset='Title', keep=False, inplace=True)\n",
        "df = pd.concat([df, duplicates]).drop('finger', axis=1)"
      ],
      "metadata": {
        "colab": {
          "base_uri": "https://localhost:8080/"
        },
        "id": "FLrbKDMTOnsC",
        "outputId": "90c60fd3-0a91-413a-c022-e2d4dda15b74"
      },
      "execution_count": 133,
      "outputs": [
        {
          "output_type": "stream",
          "name": "stderr",
          "text": [
            "[09:00:16] Conflicting single bond directions around double bond at index 55.\n",
            "[09:00:16]   BondStereo set to STEREONONE and single bond directions set to NONE.\n"
          ]
        }
      ]
    },
    {
      "cell_type": "code",
      "source": [
        "# Фильтрация DataFrame\n",
        "df = df[(df['SI'] < 100) & (df['Polar SA'] < 300) & (df['Molecular weight'] < 1000) & (df['S_leng'] < 200)]"
      ],
      "metadata": {
        "id": "biB7-v9zOMOa"
      },
      "execution_count": 134,
      "outputs": []
    },
    {
      "cell_type": "code",
      "source": [
        "def RDKfingerPrint(mol_smi, **kwargs):\n",
        "    mol = Chem.MolFromSmiles(mol_smi)\n",
        "    desc_vec = np.zeros((1,), dtype=int)\n",
        "    DataStructs.ConvertToNumpyArray(AllChem.RDKFingerprint(mol, **kwargs), desc_vec)\n",
        "    return desc_vec\n",
        "\n",
        "# Применить функцию RDKfingerPrint ко всем строкам в столбце 'SMILES' и создать новые столбцы\n",
        "df[['RDKFP_' + str(i) for i in range(2048)]] = df['SMILES'].apply(lambda x: pd.Series(RDKfingerPrint(x, maxPath=5)))\n"
      ],
      "metadata": {
        "id": "de4ie6tmmSiJ"
      },
      "execution_count": null,
      "outputs": []
    },
    {
      "cell_type": "code",
      "source": [
        "y_CC50 = np.array(df['CC50-MDCK, mmg/ml'])\n",
        "scaler = StandardScaler()\n",
        "y_CC50_scaled = scaler.fit_transform(y_CC50.reshape(-1,1))\n",
        "\n",
        "y_IC50 = np.array(df['IC50, mmg/ml'])\n",
        "scaler = StandardScaler()\n",
        "y_IC50_scaled = scaler.fit_transform(y_IC50.reshape(-1,1))\n",
        "\n",
        "y_SI = np.array(df['SI'])\n",
        "scaler = StandardScaler()\n",
        "y_SI_scaled = scaler.fit_transform(y_SI.reshape(-1,1))"
      ],
      "metadata": {
        "id": "HHsJfxDV0cCL"
      },
      "execution_count": 170,
      "outputs": []
    },
    {
      "cell_type": "code",
      "source": [
        "def solve(df, y1, y2):\n",
        "  def RDKfingerPrint(mol_smi, **kwargs):\n",
        "    mol = Chem.MolFromSmiles(mol_smi)\n",
        "    desc_vec = np.zeros((1,), dtype=int)\n",
        "    DataStructs.ConvertToNumpyArray(AllChem.RDKFingerprint(mol, **kwargs), desc_vec)\n",
        "    return desc_vec\n",
        "\n",
        "  # Применить функцию RDKfingerPrint ко всем строкам в столбце 'SMILES' и создать новые столбцы\n",
        "  df[['RDKFP_' + str(i) for i in range(2048)]] = df['SMILES'].apply(lambda x: pd.Series(RDKfingerPrint(x, maxPath=5)))\n",
        "  result_df = df.drop(columns = ['IC50, mmg/ml', 'CC50-MDCK, mmg/ml', 'SI', 'Title', 'SMILES'])\n",
        "\n",
        "  result_df = result_df.reset_index(drop = True)\n",
        "  def mol_dsc_calc(mols):\n",
        "    return pd.DataFrame({k: f(Chem.MolFromSmiles(m)) for k, f in descriptors.items()} for m in mols)\n",
        "\n",
        "# список конституционных и физико-химических дескрипторов из библиотеки RDKit\n",
        "  descriptors = {\"HeavyAtomCount\": Descriptors.HeavyAtomCount,\n",
        "                \"NHOHCount\": Descriptors.NHOHCount,\n",
        "                \"NOCount\": Descriptors.NOCount,\n",
        "                \"NumHAcceptors\": Descriptors.NumHAcceptors,\n",
        "                \"NumHDonors\": Descriptors.NumHDonors,\n",
        "                \"NumHeteroatoms\": Descriptors.NumHeteroatoms,\n",
        "                \"NumRotatableBonds\": Descriptors.NumRotatableBonds,\n",
        "                \"NumValenceElectrons\": Descriptors.NumValenceElectrons,\n",
        "                \"NumAromaticRings\": Descriptors.NumAromaticRings,\n",
        "                \"NumAliphaticHeterocycles\": Descriptors.NumAliphaticHeterocycles,\n",
        "                \"RingCount\": Descriptors.RingCount,\n",
        "                \"MW\": Descriptors.MolWt,\n",
        "                \"LogP\": Descriptors.MolLogP,\n",
        "                \"MR\": Descriptors.MolMR,\n",
        "                \"TPSA\": Descriptors.TPSA}\n",
        "\n",
        "  # sklearn трансформер для использования в конвейерном моделировании\n",
        "  descriptors_transformer = FunctionTransformer(mol_dsc_calc)\n",
        "  X = descriptors_transformer.transform(df['SMILES'])\n",
        "  result_df = df.join(X)\n",
        "  result_df = result_df.drop(columns = ['Title', 'SMILES', 'IC50, mmg/ml','CC50-MDCK, mmg/ml', 'SI'])\n",
        "  result_df = result_df.reset_index(drop = True)\n",
        "  cat_model = CatBoostRegressor(verbose = 500,  random_state = 42)\n",
        "  cat_model.fit(result_df,y)\n",
        "  feature_importance_df = pd.DataFrame({'Feature': result_df.columns, 'Importance': cat_model.feature_importances_})\n",
        "\n",
        "  feature_importance_df = feature_importance_df[feature_importance_df['Importance'] > 0]\n",
        "\n",
        "  selected_features = feature_importance_df['Feature']\n",
        "\n",
        "  result_df = result_df[selected_features]\n",
        "  def remove_highly_correlated_features(df, threshold=0.85):\n",
        "    correlation_matrix = df.corr()\n",
        "    highly_correlated_features = set()\n",
        "\n",
        "    for i in range(len(correlation_matrix.columns)):\n",
        "        for j in range(i):\n",
        "            if abs(correlation_matrix.iloc[i, j]) > threshold:\n",
        "                feature1 = correlation_matrix.columns[i]\n",
        "                feature2 = correlation_matrix.columns[j]\n",
        "                highly_correlated_features.add(feature1)  # Добавляем один из признаков в множество\n",
        "\n",
        "    # Удалить выбранные признаки из DataFrame\n",
        "    df = df.drop(columns=highly_correlated_features)\n",
        "\n",
        "    return df\n",
        "\n",
        "# Применить функцию к разным DataFrame\n",
        "  result_df = remove_highly_correlated_features(result_df)\n",
        "  from sklearn.model_selection import ShuffleSplit\n",
        "  cv = ShuffleSplit(n_splits = 5, test_size = 0.2, random_state = 228)\n",
        "  scores1 = cross_val_score(cat_model, result_df, y1, cv=cv, scoring='neg_root_mean_squared_error')\n",
        "  scores2 = cross_val_score(cat_model, result_df, y2, cv=cv, scoring='neg_root_mean_squared_error')\n",
        "  return scores1, scores2"
      ],
      "metadata": {
        "id": "R4Q2Hx3BqArU"
      },
      "execution_count": 172,
      "outputs": []
    },
    {
      "cell_type": "code",
      "source": [
        "scores_CC50, scoresCC50_scaled = solve(df,y_CC50, y_CC50_scaled)\n",
        "scores_CC50.mean(), scoresCC50_scaled.mean()"
      ],
      "metadata": {
        "colab": {
          "base_uri": "https://localhost:8080/"
        },
        "id": "30fyUn8ErLda",
        "outputId": "7dc7c0ac-bcef-4c15-a1ff-d905e7ea22c7"
      },
      "execution_count": 169,
      "outputs": [
        {
          "output_type": "stream",
          "name": "stdout",
          "text": [
            "Learning rate set to 0.042466\n",
            "0:\tlearn: 0.9919692\ttotal: 119ms\tremaining: 1m 59s\n",
            "500:\tlearn: 0.3803430\ttotal: 1m 10s\tremaining: 1m 10s\n",
            "999:\tlearn: 0.2322575\ttotal: 2m 19s\tremaining: 0us\n",
            "Learning rate set to 0.040995\n",
            "0:\tlearn: 144.0037740\ttotal: 91.9ms\tremaining: 1m 31s\n",
            "500:\tlearn: 51.1651879\ttotal: 29.2s\tremaining: 29.1s\n",
            "999:\tlearn: 30.4072009\ttotal: 57.7s\tremaining: 0us\n",
            "Learning rate set to 0.040995\n",
            "0:\tlearn: 142.5781008\ttotal: 51.3ms\tremaining: 51.3s\n",
            "500:\tlearn: 50.7458185\ttotal: 28.5s\tremaining: 28.4s\n",
            "999:\tlearn: 30.3235084\ttotal: 57.1s\tremaining: 0us\n",
            "Learning rate set to 0.040995\n",
            "0:\tlearn: 142.7235971\ttotal: 54.3ms\tremaining: 54.2s\n",
            "500:\tlearn: 53.1909397\ttotal: 28.6s\tremaining: 28.5s\n",
            "999:\tlearn: 32.4530917\ttotal: 57.9s\tremaining: 0us\n",
            "Learning rate set to 0.040995\n",
            "0:\tlearn: 145.1394632\ttotal: 55.5ms\tremaining: 55.4s\n",
            "500:\tlearn: 52.3517391\ttotal: 28.8s\tremaining: 28.6s\n",
            "999:\tlearn: 31.1263439\ttotal: 57.4s\tremaining: 0us\n",
            "Learning rate set to 0.040995\n",
            "0:\tlearn: 141.6227813\ttotal: 54.8ms\tremaining: 54.8s\n",
            "500:\tlearn: 53.9305018\ttotal: 28.5s\tremaining: 28.4s\n",
            "999:\tlearn: 32.2259390\ttotal: 56.9s\tremaining: 0us\n",
            "Learning rate set to 0.040995\n",
            "0:\tlearn: 1.0056669\ttotal: 90ms\tremaining: 1m 29s\n",
            "500:\tlearn: 0.3573180\ttotal: 29.9s\tremaining: 29.8s\n",
            "999:\tlearn: 0.2123522\ttotal: 58.6s\tremaining: 0us\n",
            "Learning rate set to 0.040995\n",
            "0:\tlearn: 0.9957106\ttotal: 60ms\tremaining: 59.9s\n",
            "500:\tlearn: 0.3543893\ttotal: 28.7s\tremaining: 28.6s\n",
            "999:\tlearn: 0.2117677\ttotal: 57.3s\tremaining: 0us\n",
            "Learning rate set to 0.040995\n",
            "0:\tlearn: 0.9967266\ttotal: 55.9ms\tremaining: 55.8s\n",
            "500:\tlearn: 0.3714650\ttotal: 28.5s\tremaining: 28.4s\n",
            "999:\tlearn: 0.2266399\ttotal: 57.8s\tremaining: 0us\n",
            "Learning rate set to 0.040995\n",
            "0:\tlearn: 1.0135981\ttotal: 92ms\tremaining: 1m 31s\n",
            "500:\tlearn: 0.3656044\ttotal: 28.6s\tremaining: 28.5s\n",
            "999:\tlearn: 0.2173744\ttotal: 57.1s\tremaining: 0us\n",
            "Learning rate set to 0.040995\n",
            "0:\tlearn: 0.9890390\ttotal: 51ms\tremaining: 51s\n",
            "500:\tlearn: 0.3766299\ttotal: 28.5s\tremaining: 28.4s\n",
            "999:\tlearn: 0.2250535\ttotal: 56.8s\tremaining: 0us\n"
          ]
        },
        {
          "output_type": "execute_result",
          "data": {
            "text/plain": [
              "(-103.11553121384898, -0.7201191539878306)"
            ]
          },
          "metadata": {},
          "execution_count": 169
        }
      ]
    },
    {
      "cell_type": "code",
      "source": [
        "scores_IC50, scoresIC50_scaled = solve(df,y_IC50, y_IC50_scaled)\n",
        "scores_IC50.mean(), scoresIC50_scaled.mean()"
      ],
      "metadata": {
        "colab": {
          "base_uri": "https://localhost:8080/"
        },
        "id": "IF9DHmYCt6qp",
        "outputId": "9ae8f1ab-3628-44ac-fe89-a274b6b91e18"
      },
      "execution_count": 173,
      "outputs": [
        {
          "output_type": "stream",
          "name": "stdout",
          "text": [
            "Learning rate set to 0.042466\n",
            "0:\tlearn: 0.9919692\ttotal: 132ms\tremaining: 2m 11s\n",
            "500:\tlearn: 0.3803430\ttotal: 1m 9s\tremaining: 1m 9s\n",
            "999:\tlearn: 0.2322575\ttotal: 2m 19s\tremaining: 0us\n",
            "Learning rate set to 0.040995\n",
            "0:\tlearn: 97.8970409\ttotal: 50.9ms\tremaining: 50.9s\n",
            "500:\tlearn: 37.8306716\ttotal: 28.8s\tremaining: 28.7s\n",
            "999:\tlearn: 23.2015508\ttotal: 57.5s\tremaining: 0us\n",
            "Learning rate set to 0.040995\n",
            "0:\tlearn: 99.3829562\ttotal: 58.1ms\tremaining: 58s\n",
            "500:\tlearn: 39.8265364\ttotal: 29.4s\tremaining: 29.3s\n",
            "999:\tlearn: 24.6236772\ttotal: 58.8s\tremaining: 0us\n",
            "Learning rate set to 0.040995\n",
            "0:\tlearn: 98.0433862\ttotal: 57.5ms\tremaining: 57.4s\n",
            "500:\tlearn: 37.5828097\ttotal: 28.6s\tremaining: 28.5s\n",
            "999:\tlearn: 22.4710308\ttotal: 57.1s\tremaining: 0us\n",
            "Learning rate set to 0.040995\n",
            "0:\tlearn: 1.0145343\ttotal: 54ms\tremaining: 54s\n",
            "500:\tlearn: 0.3920498\ttotal: 28.8s\tremaining: 28.7s\n",
            "999:\tlearn: 0.2404441\ttotal: 57.9s\tremaining: 0us\n",
            "Learning rate set to 0.040995\n",
            "0:\tlearn: 1.0299333\ttotal: 85.4ms\tremaining: 1m 25s\n",
            "500:\tlearn: 0.4127335\ttotal: 29.2s\tremaining: 29.1s\n",
            "999:\tlearn: 0.2551820\ttotal: 57.8s\tremaining: 0us\n",
            "Learning rate set to 0.040995\n",
            "0:\tlearn: 1.0160509\ttotal: 51.5ms\tremaining: 51.4s\n",
            "500:\tlearn: 0.3894811\ttotal: 28.4s\tremaining: 28.3s\n",
            "999:\tlearn: 0.2328736\ttotal: 56.7s\tremaining: 0us\n"
          ]
        },
        {
          "output_type": "execute_result",
          "data": {
            "text/plain": [
              "(-84.5745036195923, -0.8764691462568369)"
            ]
          },
          "metadata": {},
          "execution_count": 173
        }
      ]
    },
    {
      "cell_type": "code",
      "source": [
        "scores_SI, scoresSI_scaled = solve(df,y_SI, y_SI_scaled)\n",
        "scores_SI.mean(), scoresSI_scaled.mean()"
      ],
      "metadata": {
        "colab": {
          "base_uri": "https://localhost:8080/"
        },
        "id": "SZUKWPLOt85K",
        "outputId": "36a1d622-6cfb-449c-9cae-bcd154d4cfb7"
      },
      "execution_count": 168,
      "outputs": [
        {
          "output_type": "stream",
          "name": "stdout",
          "text": [
            "Learning rate set to 0.042466\n",
            "0:\tlearn: 0.9919692\ttotal: 112ms\tremaining: 1m 52s\n",
            "500:\tlearn: 0.3803430\ttotal: 1m 10s\tremaining: 1m 9s\n",
            "999:\tlearn: 0.2322575\ttotal: 2m 20s\tremaining: 0us\n",
            "Learning rate set to 0.040995\n",
            "0:\tlearn: 18.0767124\ttotal: 50.8ms\tremaining: 50.8s\n",
            "500:\tlearn: 8.8898635\ttotal: 28.6s\tremaining: 28.5s\n",
            "999:\tlearn: 5.6747540\ttotal: 57.2s\tremaining: 0us\n",
            "Learning rate set to 0.040995\n",
            "0:\tlearn: 17.7625937\ttotal: 68.7ms\tremaining: 1m 8s\n",
            "500:\tlearn: 8.3388766\ttotal: 29.8s\tremaining: 29.6s\n",
            "999:\tlearn: 5.4303195\ttotal: 58.2s\tremaining: 0us\n",
            "Learning rate set to 0.040995\n",
            "0:\tlearn: 17.8401025\ttotal: 57ms\tremaining: 57s\n",
            "500:\tlearn: 8.0897656\ttotal: 28.5s\tremaining: 28.4s\n",
            "999:\tlearn: 5.0789637\ttotal: 58.3s\tremaining: 0us\n",
            "Learning rate set to 0.040995\n",
            "0:\tlearn: 17.9454290\ttotal: 54.7ms\tremaining: 54.6s\n",
            "500:\tlearn: 8.1305754\ttotal: 30.4s\tremaining: 30.3s\n",
            "999:\tlearn: 5.0739962\ttotal: 1m 1s\tremaining: 0us\n",
            "Learning rate set to 0.040995\n",
            "0:\tlearn: 17.7497803\ttotal: 56.9ms\tremaining: 56.8s\n",
            "500:\tlearn: 8.3370931\ttotal: 30.1s\tremaining: 30s\n",
            "999:\tlearn: 5.3716839\ttotal: 59.9s\tremaining: 0us\n",
            "Learning rate set to 0.040995\n",
            "0:\tlearn: 1.0035347\ttotal: 51.6ms\tremaining: 51.6s\n",
            "500:\tlearn: 0.4935237\ttotal: 30.1s\tremaining: 30s\n",
            "999:\tlearn: 0.3150359\ttotal: 1m 1s\tremaining: 0us\n",
            "Learning rate set to 0.040995\n",
            "0:\tlearn: 0.9860963\ttotal: 52.1ms\tremaining: 52s\n",
            "500:\tlearn: 0.4629355\ttotal: 29.9s\tremaining: 29.8s\n",
            "999:\tlearn: 0.3014660\ttotal: 59.9s\tremaining: 0us\n",
            "Learning rate set to 0.040995\n",
            "0:\tlearn: 0.9903993\ttotal: 56.2ms\tremaining: 56.2s\n",
            "500:\tlearn: 0.4491060\ttotal: 29.4s\tremaining: 29.3s\n",
            "999:\tlearn: 0.2819604\ttotal: 1m 1s\tremaining: 0us\n",
            "Learning rate set to 0.040995\n",
            "0:\tlearn: 0.9962465\ttotal: 57.6ms\tremaining: 57.5s\n",
            "500:\tlearn: 0.4513716\ttotal: 31.1s\tremaining: 30.9s\n",
            "999:\tlearn: 0.2816846\ttotal: 1m 1s\tremaining: 0us\n",
            "Learning rate set to 0.040995\n",
            "0:\tlearn: 0.9853850\ttotal: 57.3ms\tremaining: 57.2s\n",
            "500:\tlearn: 0.4628365\ttotal: 31s\tremaining: 30.9s\n",
            "999:\tlearn: 0.2982108\ttotal: 1m 1s\tremaining: 0us\n"
          ]
        },
        {
          "output_type": "execute_result",
          "data": {
            "text/plain": [
              "(-16.823314014191244, -0.9339519091118176)"
            ]
          },
          "metadata": {},
          "execution_count": 168
        }
      ]
    },
    {
      "cell_type": "markdown",
      "source": [
        "FINAL SCORES(RMSE):\n",
        "CC50 - 103.11, 0.72 (стандартизованный)\n",
        "IC50 - 84.574, 0.876(стандартизированный)\n",
        "SI - 16.82, 0.93(стандартизованный)\n"
      ],
      "metadata": {
        "id": "8PaIUH1388Se"
      }
    }
  ]
}